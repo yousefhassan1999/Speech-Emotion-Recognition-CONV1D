{
  "nbformat": 4,
  "nbformat_minor": 0,
  "metadata": {
    "colab": {
      "name": "Lab3_PR_CONV1D.ipynb",
      "provenance": [],
      "collapsed_sections": []
    },
    "kernelspec": {
      "name": "python3",
      "display_name": "Python 3"
    },
    "language_info": {
      "name": "python"
    },
    "accelerator": "GPU"
  },
  "cells": [
    {
      "cell_type": "code",
      "execution_count": null,
      "metadata": {
        "colab": {
          "base_uri": "https://localhost:8080/"
        },
        "id": "qKR8nkTtviNx",
        "outputId": "4bdbd024-a760-4ae3-a982-19fb49f4b08c"
      },
      "outputs": [
        {
          "output_type": "stream",
          "name": "stdout",
          "text": [
            "--2022-05-17 20:13:30--  https://docs.google.com/uc?export=download&id=1sL8ZzGo56zE05IEeOW3qFTUSs8EOzb0A\n",
            "Resolving docs.google.com (docs.google.com)... 209.85.145.139, 209.85.145.100, 209.85.145.102, ...\n",
            "Connecting to docs.google.com (docs.google.com)|209.85.145.139|:443... connected.\n",
            "HTTP request sent, awaiting response... 303 See Other\n",
            "Location: https://doc-0c-0s-docs.googleusercontent.com/docs/securesc/ha0ro937gcuc7l7deffksulhg5h7mbp1/rmavmaimft2nf2t0h9qrc8uel98leab9/1652818350000/14000593078586114621/*/1sL8ZzGo56zE05IEeOW3qFTUSs8EOzb0A?e=download [following]\n",
            "Warning: wildcards not supported in HTTP.\n",
            "--2022-05-17 20:13:31--  https://doc-0c-0s-docs.googleusercontent.com/docs/securesc/ha0ro937gcuc7l7deffksulhg5h7mbp1/rmavmaimft2nf2t0h9qrc8uel98leab9/1652818350000/14000593078586114621/*/1sL8ZzGo56zE05IEeOW3qFTUSs8EOzb0A?e=download\n",
            "Resolving doc-0c-0s-docs.googleusercontent.com (doc-0c-0s-docs.googleusercontent.com)... 142.250.1.132, 2607:f8b0:4001:c24::84\n",
            "Connecting to doc-0c-0s-docs.googleusercontent.com (doc-0c-0s-docs.googleusercontent.com)|142.250.1.132|:443... connected.\n",
            "HTTP request sent, awaiting response... 200 OK\n",
            "Length: 64 [application/json]\n",
            "Saving to: ‘kaggle.json’\n",
            "\n",
            "kaggle.json         100%[===================>]      64  --.-KB/s    in 0s      \n",
            "\n",
            "2022-05-17 20:13:31 (2.72 MB/s) - ‘kaggle.json’ saved [64/64]\n",
            "\n",
            "Downloading speech-emotion-recognition-en.zip to /content\n",
            "100% 987M/987M [00:05<00:00, 164MB/s]\n",
            "100% 987M/987M [00:05<00:00, 194MB/s]\n"
          ]
        }
      ],
      "source": [
        "# download the data\n",
        "! wget --no-check-certificate 'https://docs.google.com/uc?export=download&id=1sL8ZzGo56zE05IEeOW3qFTUSs8EOzb0A' -O \"kaggle.json\"\n",
        "! mkdir ~/.kaggle\n",
        "! cp ./kaggle.json ~/.kaggle/\n",
        "! chmod 600 ~/.kaggle/kaggle.json\n",
        "! kaggle datasets download -d dmitrybabko/speech-emotion-recognition-en"
      ]
    },
    {
      "cell_type": "code",
      "source": [
        "! unzip -q speech-emotion-recognition-en.zip -d /content/data # extract the data\n",
        "! rm speech-emotion-recognition-en.zip # remove .zip file to save some space"
      ],
      "metadata": {
        "id": "1LnZsw2Zvk2r"
      },
      "execution_count": null,
      "outputs": []
    },
    {
      "cell_type": "code",
      "source": [
        "import numpy as np\n",
        "import scipy.io.wavfile\n",
        "import os\n",
        "import librosa as lb\n",
        "import librosa.display\n",
        "import tensorflow as tf\n",
        "from tensorflow.keras.layers import Dense , Dropout , Activation , Flatten , Conv2D , MaxPooling2D , ZeroPadding2D , Conv1D , MaxPool1D,MaxPooling1D\n",
        "from matplotlib import pyplot as plt\n",
        "from IPython.display import Audio\n",
        "from keras.regularizers import l2\n",
        "from tensorflow.keras.models import Sequential\n",
        "from tensorflow.keras import backend as K"
      ],
      "metadata": {
        "id": "gGWs-nZevopz"
      },
      "execution_count": null,
      "outputs": []
    },
    {
      "cell_type": "code",
      "source": [
        "dataFolder = 'data/Crema'\n",
        "labels=np.zeros(7442)\n",
        "data=[]\n",
        "i=0\n",
        "for sample in os.listdir(dataFolder):\n",
        "    \n",
        "    samp, sr = lb.load(dataFolder+\"/\"+sample, offset=0.6, duration=3 , sr=None)\n",
        "    samp=np.pad(samp, pad_width=(0,48000-samp.shape[0]))\n",
        "    data.append(samp)\n",
        "    token = sample.partition(\".wav\")[0].split(\"_\")\n",
        "    if token[2] == 'SAD':\n",
        "        labels[i]=0;\n",
        "    elif token[2] == 'ANG':\n",
        "        labels[i]=1;\n",
        "    elif token[2] == 'DIS':\n",
        "        labels[i]=2;\n",
        "    elif token[2] == 'FEA':\n",
        "        labels[i]=3;\n",
        "    elif token[2] == 'HAP':\n",
        "        labels[i]=4;\n",
        "    elif token[2] == 'NEU':\n",
        "        labels[i]=5;\n",
        "    else:\n",
        "        labels[i]=6;\n",
        "\n",
        "    i=i+1\n"
      ],
      "metadata": {
        "id": "BgcKpTqvwa0Y"
      },
      "execution_count": null,
      "outputs": []
    },
    {
      "cell_type": "code",
      "source": [
        "import math\n",
        "def get_white_noise(signal,SNR) :\n",
        "    #RMS value of signal\n",
        "    RMS_s=math.sqrt(np.mean(signal**2))\n",
        "    #RMS values of noise\n",
        "    RMS_n=math.sqrt(RMS_s**2/(pow(10,SNR/10)))\n",
        "    #Additive white gausian noise. Thereore mean=0\n",
        "    #Because sample length is large (typically > 40000)\n",
        "    #we can use the population formula for standard daviation.\n",
        "    #because mean=0 STD=RMS\n",
        "    STD_n=RMS_n\n",
        "    noise=np.random.normal(0, STD_n, signal.shape[0])\n",
        "    return noise"
      ],
      "metadata": {
        "id": "pJToRdqHxINa"
      },
      "execution_count": null,
      "outputs": []
    },
    {
      "cell_type": "code",
      "source": [
        "from sklearn.model_selection import train_test_split\n",
        "#spliting dataset\n",
        "\n",
        "x_train, x_test, y_train, y_test = train_test_split(data, labels, test_size=0.3 ,shuffle = False, stratify = None)\n",
        "\n",
        "x_train_new, x_val, y_train_new, y_val = train_test_split(x_train, y_train, test_size=0.05 ,shuffle = False, stratify = None)\n",
        "\n",
        "x_train=np.array(x_train_new)\n",
        "x_test=np.array(x_test)\n",
        "x_val=np.array(x_val) \n",
        "\n",
        "y_train=np.array(y_train_new)\n",
        "y_test=np.array(y_test)\n",
        "y_val=np.array(y_val)\n",
        "\n",
        "#augmenting training dataset\n",
        "moded_xtrain = []\n",
        "moded_ytrain=[]\n",
        "for i in range(x_train.shape[0]):\n",
        "\n",
        "  withnoise = get_white_noise(x_train[i] ,7)\n",
        "  withpitch=librosa.effects.pitch_shift(x_train[i], sr , 0.7)\n",
        "  #stretched =  librosa.effects.time_stretch(x_train[i], 0.8)\n",
        "  moded_xtrain.append(x_train[i])\n",
        "  moded_xtrain.append(withnoise)\n",
        "  moded_xtrain.append(withpitch)\n",
        "  \n",
        "  moded_ytrain.append(y_train[i])\n",
        "  moded_ytrain.append(y_train[i])\n",
        "  moded_ytrain.append(y_train[i])"
      ],
      "metadata": {
        "id": "-UjoQehnxLet"
      },
      "execution_count": null,
      "outputs": []
    },
    {
      "cell_type": "code",
      "source": [
        "sh=x_train.shape[1]\n",
        "print(x_train[0].shape)\n",
        "print(sh)"
      ],
      "metadata": {
        "colab": {
          "base_uri": "https://localhost:8080/"
        },
        "id": "Luy2uSAybNBY",
        "outputId": "e77a40ff-6c70-4327-d08f-37ac7ede6481"
      },
      "execution_count": null,
      "outputs": [
        {
          "output_type": "stream",
          "name": "stdout",
          "text": [
            "(48000,)\n",
            "48000\n"
          ]
        }
      ]
    },
    {
      "cell_type": "code",
      "source": [
        "def zcr(data):\n",
        "    zcr = librosa.feature.zero_crossing_rate(y=data, frame_length=2048, hop_length=512)\n",
        "    return np.squeeze(zcr)\n",
        "def mfcc(data, sr=16000, flatten: bool = True): #get Mel-frequency cepstrum coefficients \n",
        "    mfcc_feature = librosa.feature.mfcc(y=data, sr=sr)\n",
        "    return np.squeeze(mfcc_feature.T) if not flatten else np.ravel(mfcc_feature.T)\n",
        "def rmse(data): #energy for each frame\n",
        "    rmse = librosa.feature.rms(y=data, frame_length=2048, hop_length=512)\n",
        "    return np.squeeze(rmse)\n",
        "def energy(data):\n",
        "    ene = np.array([np.sum(np.power(np.abs(data[hop:hop+2048]), 2)) for hop in range(0, data.shape[0], 512)])\n",
        "    return ene / 2048"
      ],
      "metadata": {
        "id": "dn8Lc2QjxTBZ"
      },
      "execution_count": null,
      "outputs": []
    },
    {
      "cell_type": "code",
      "source": [
        "x=[]\n",
        "for i in moded_xtrain :\n",
        "  sample = np.array([])\n",
        "  sample = np.hstack( (sample ,zcr(i),rmse(i),mfcc(i),energy(i)))\n",
        "  x.append(sample)"
      ],
      "metadata": {
        "id": "zD6Xx4DCxe1H"
      },
      "execution_count": null,
      "outputs": []
    },
    {
      "cell_type": "code",
      "source": [
        "x_t=[]\n",
        "for i in x_test :\n",
        "  sample = np.array([])\n",
        "  sample = np.hstack(  (sample ,zcr(i),rmse(i),mfcc(i),energy(i)))\n",
        "  x_t.append(sample)"
      ],
      "metadata": {
        "id": "gT4Tr6_exp2V"
      },
      "execution_count": null,
      "outputs": []
    },
    {
      "cell_type": "code",
      "source": [
        "val=[]\n",
        "for i in x_val :\n",
        "  sample = np.array([])\n",
        "  sample = np.hstack(  (sample ,zcr(i),rmse(i),mfcc(i),energy(i)))\n",
        "  val.append(sample)"
      ],
      "metadata": {
        "id": "PJex1LQ29VJo"
      },
      "execution_count": null,
      "outputs": []
    },
    {
      "cell_type": "code",
      "source": [
        "  moded_xtrain= np.array(x)\n",
        "  moded_xtest=np.array(x_t)\n",
        "  moded_xval=np.array(val)"
      ],
      "metadata": {
        "id": "60m9AW04xu2V"
      },
      "execution_count": null,
      "outputs": []
    },
    {
      "cell_type": "code",
      "source": [
        "moded_xtest = np.expand_dims(moded_xtest, axis=2)\n",
        "moded_xtrain = np.expand_dims(moded_xtrain, axis=2)\n",
        "moded_xval = np.expand_dims(moded_xval, axis=2)"
      ],
      "metadata": {
        "id": "SMcctbjex1y9"
      },
      "execution_count": null,
      "outputs": []
    },
    {
      "cell_type": "code",
      "source": [
        "from keras import models\n",
        "from keras import layers\n",
        "from keras import models\n",
        "from keras.utils import np_utils\n",
        "from sklearn.model_selection import train_test_split\n",
        "from sklearn.preprocessing import LabelEncoder, StandardScaler\n",
        "from tensorflow.python.keras.callbacks import EarlyStopping, ReduceLROnPlateau\n",
        "import itertools\n",
        "from tensorflow.keras.layers import (\n",
        "    BatchNormalization, SeparableConv2D, MaxPooling2D, Activation, Flatten, Dropout, Dense\n",
        ")\n",
        "tf.keras.backend.clear_session()\n",
        "model = Sequential()\n",
        "model.add(Conv1D(512, kernel_size=5, strides=1,\n",
        "                        padding=\"same\", activation=\"relu\",\n",
        "                        input_shape=(moded_xtrain.shape[1], 1)))\n",
        "model.add(BatchNormalization())\n",
        "model.add(MaxPool1D(pool_size=5, strides=2, padding=\"same\"))\n",
        "\n",
        "model.add(Conv1D(512, kernel_size=5, strides=1,\n",
        "                        padding=\"same\", activation=\"relu\"))\n",
        "model.add(BatchNormalization())\n",
        "model.add(MaxPool1D(pool_size=5, strides=2, padding=\"same\"))\n",
        "\n",
        "model.add(Conv1D(256, kernel_size=5, strides=1,\n",
        "                        padding=\"same\", activation=\"relu\"))\n",
        "model.add(BatchNormalization())\n",
        "model.add(MaxPool1D(pool_size=5, strides=2, padding=\"same\"))\n",
        "\n",
        "model.add(Conv1D(256, kernel_size=3, strides=1, padding='same', activation='relu'))\n",
        "model.add(BatchNormalization())\n",
        "model.add(MaxPooling1D(pool_size=5, strides = 2, padding = 'same'))\n",
        "\n",
        "model.add(Conv1D(128, kernel_size=3, strides=1, padding='same', activation='relu'))\n",
        "model.add(BatchNormalization())\n",
        "model.add(MaxPooling1D(pool_size=3, strides = 2, padding = 'same'))\n",
        "\n",
        "model.add(Flatten())\n",
        "model.add(Dense(512, activation='relu'))\n",
        "model.add(BatchNormalization())\n",
        "model.add(Dense(6, activation=\"softmax\"))\n",
        "\n",
        "model.compile(optimizer=\"rmsprop\", loss=\"categorical_crossentropy\", metrics=[\"accuracy\"])\n",
        "model.summary()"
      ],
      "metadata": {
        "colab": {
          "base_uri": "https://localhost:8080/"
        },
        "id": "0nw1Ll_cx6tQ",
        "outputId": "e28684c1-29c7-4200-b10e-eac951ae45bb"
      },
      "execution_count": null,
      "outputs": [
        {
          "output_type": "stream",
          "name": "stdout",
          "text": [
            "Model: \"sequential\"\n",
            "_________________________________________________________________\n",
            " Layer (type)                Output Shape              Param #   \n",
            "=================================================================\n",
            " conv1d (Conv1D)             (None, 2162, 512)         3072      \n",
            "                                                                 \n",
            " batch_normalization (BatchN  (None, 2162, 512)        2048      \n",
            " ormalization)                                                   \n",
            "                                                                 \n",
            " max_pooling1d (MaxPooling1D  (None, 1081, 512)        0         \n",
            " )                                                               \n",
            "                                                                 \n",
            " conv1d_1 (Conv1D)           (None, 1081, 512)         1311232   \n",
            "                                                                 \n",
            " batch_normalization_1 (Batc  (None, 1081, 512)        2048      \n",
            " hNormalization)                                                 \n",
            "                                                                 \n",
            " max_pooling1d_1 (MaxPooling  (None, 541, 512)         0         \n",
            " 1D)                                                             \n",
            "                                                                 \n",
            " conv1d_2 (Conv1D)           (None, 541, 256)          655616    \n",
            "                                                                 \n",
            " batch_normalization_2 (Batc  (None, 541, 256)         1024      \n",
            " hNormalization)                                                 \n",
            "                                                                 \n",
            " max_pooling1d_2 (MaxPooling  (None, 271, 256)         0         \n",
            " 1D)                                                             \n",
            "                                                                 \n",
            " conv1d_3 (Conv1D)           (None, 271, 256)          196864    \n",
            "                                                                 \n",
            " batch_normalization_3 (Batc  (None, 271, 256)         1024      \n",
            " hNormalization)                                                 \n",
            "                                                                 \n",
            " max_pooling1d_3 (MaxPooling  (None, 136, 256)         0         \n",
            " 1D)                                                             \n",
            "                                                                 \n",
            " conv1d_4 (Conv1D)           (None, 136, 128)          98432     \n",
            "                                                                 \n",
            " batch_normalization_4 (Batc  (None, 136, 128)         512       \n",
            " hNormalization)                                                 \n",
            "                                                                 \n",
            " max_pooling1d_4 (MaxPooling  (None, 68, 128)          0         \n",
            " 1D)                                                             \n",
            "                                                                 \n",
            " flatten (Flatten)           (None, 8704)              0         \n",
            "                                                                 \n",
            " dense (Dense)               (None, 512)               4456960   \n",
            "                                                                 \n",
            " batch_normalization_5 (Batc  (None, 512)              2048      \n",
            " hNormalization)                                                 \n",
            "                                                                 \n",
            " dense_1 (Dense)             (None, 6)                 3078      \n",
            "                                                                 \n",
            "=================================================================\n",
            "Total params: 6,733,958\n",
            "Trainable params: 6,729,606\n",
            "Non-trainable params: 4,352\n",
            "_________________________________________________________________\n"
          ]
        }
      ]
    },
    {
      "cell_type": "code",
      "source": [
        "from tensorflow.python.keras.callbacks import EarlyStopping, ReduceLROnPlateau\n",
        "reduction = ReduceLROnPlateau(monitor='val_accuracy',patience=3,verbose=1,factor=0.5,min_lr=0.00001)"
      ],
      "metadata": {
        "id": "KrVIw68rx9Qy"
      },
      "execution_count": null,
      "outputs": []
    },
    {
      "cell_type": "code",
      "source": [
        "from tensorflow.keras.utils import to_categorical\n",
        "ytrain=to_categorical(moded_ytrain)\n",
        "yval=to_categorical(y_val)\n",
        "ytest=to_categorical(y_test)\n",
        "\n",
        "print(moded_xtrain.shape)\n",
        "print(moded_xtest.shape)\n",
        "print(moded_xval.shape)\n",
        "\n",
        "print(ytrain.shape)\n",
        "print(ytest.shape)\n",
        "print(yval.shape)\n",
        "\n",
        "record=model.fit(moded_xtrain , ytrain , epochs=30, validation_data=(moded_xval, yval), callbacks=[reduction])"
      ],
      "metadata": {
        "colab": {
          "base_uri": "https://localhost:8080/"
        },
        "id": "CK7wy_gcySdw",
        "outputId": "6fbe8434-c99d-45f8-a28e-a0c5b489caa9"
      },
      "execution_count": null,
      "outputs": [
        {
          "output_type": "stream",
          "name": "stdout",
          "text": [
            "(14844, 2162, 1)\n",
            "(2233, 2162, 1)\n",
            "(261, 2162, 1)\n",
            "(14844, 6)\n",
            "(2233, 6)\n",
            "(261, 6)\n",
            "Epoch 1/30\n",
            "464/464 [==============================] - 184s 366ms/step - loss: 1.6541 - accuracy: 0.3580 - val_loss: 2.4242 - val_accuracy: 0.2874 - lr: 0.0010\n",
            "Epoch 2/30\n",
            "464/464 [==============================] - 168s 362ms/step - loss: 1.4750 - accuracy: 0.4082 - val_loss: 1.7968 - val_accuracy: 0.3525 - lr: 0.0010\n",
            "Epoch 3/30\n",
            "464/464 [==============================] - 168s 362ms/step - loss: 1.4206 - accuracy: 0.4306 - val_loss: 2.2688 - val_accuracy: 0.3065 - lr: 0.0010\n",
            "Epoch 4/30\n",
            "464/464 [==============================] - 168s 361ms/step - loss: 1.3897 - accuracy: 0.4405 - val_loss: 1.5212 - val_accuracy: 0.3946 - lr: 0.0010\n",
            "Epoch 5/30\n",
            "464/464 [==============================] - 168s 362ms/step - loss: 1.3594 - accuracy: 0.4532 - val_loss: 1.6745 - val_accuracy: 0.3908 - lr: 0.0010\n",
            "Epoch 6/30\n",
            "464/464 [==============================] - 168s 362ms/step - loss: 1.3233 - accuracy: 0.4731 - val_loss: 1.6223 - val_accuracy: 0.3985 - lr: 0.0010\n",
            "Epoch 7/30\n",
            "464/464 [==============================] - 167s 359ms/step - loss: 1.3064 - accuracy: 0.4805 - val_loss: 1.4108 - val_accuracy: 0.4598 - lr: 0.0010\n",
            "Epoch 8/30\n",
            "464/464 [==============================] - 166s 359ms/step - loss: 1.2762 - accuracy: 0.4921 - val_loss: 1.4403 - val_accuracy: 0.4368 - lr: 0.0010\n",
            "Epoch 9/30\n",
            "464/464 [==============================] - 167s 359ms/step - loss: 1.2484 - accuracy: 0.5018 - val_loss: 1.4564 - val_accuracy: 0.4559 - lr: 0.0010\n",
            "Epoch 10/30\n",
            "464/464 [==============================] - ETA: 0s - loss: 1.2211 - accuracy: 0.5153\n",
            "Epoch 00010: ReduceLROnPlateau reducing learning rate to 0.0005000000237487257.\n",
            "464/464 [==============================] - 167s 360ms/step - loss: 1.2211 - accuracy: 0.5153 - val_loss: 1.4934 - val_accuracy: 0.4444 - lr: 0.0010\n",
            "Epoch 11/30\n",
            "464/464 [==============================] - 167s 359ms/step - loss: 1.1135 - accuracy: 0.5577 - val_loss: 1.5408 - val_accuracy: 0.4291 - lr: 5.0000e-04\n",
            "Epoch 12/30\n",
            "464/464 [==============================] - 167s 360ms/step - loss: 1.0793 - accuracy: 0.5742 - val_loss: 1.5539 - val_accuracy: 0.4483 - lr: 5.0000e-04\n",
            "Epoch 13/30\n",
            "464/464 [==============================] - 167s 360ms/step - loss: 1.0470 - accuracy: 0.5889 - val_loss: 1.5766 - val_accuracy: 0.4828 - lr: 5.0000e-04\n",
            "Epoch 14/30\n",
            "464/464 [==============================] - 167s 359ms/step - loss: 1.0140 - accuracy: 0.6052 - val_loss: 1.5621 - val_accuracy: 0.4406 - lr: 5.0000e-04\n",
            "Epoch 15/30\n",
            "464/464 [==============================] - 167s 360ms/step - loss: 0.9797 - accuracy: 0.6170 - val_loss: 1.8248 - val_accuracy: 0.4291 - lr: 5.0000e-04\n",
            "Epoch 16/30\n",
            "464/464 [==============================] - ETA: 0s - loss: 0.9496 - accuracy: 0.6296\n",
            "Epoch 00016: ReduceLROnPlateau reducing learning rate to 0.0002500000118743628.\n",
            "464/464 [==============================] - 167s 360ms/step - loss: 0.9496 - accuracy: 0.6296 - val_loss: 1.9893 - val_accuracy: 0.4444 - lr: 5.0000e-04\n",
            "Epoch 17/30\n",
            "464/464 [==============================] - 167s 360ms/step - loss: 0.8686 - accuracy: 0.6657 - val_loss: 1.7445 - val_accuracy: 0.4789 - lr: 2.5000e-04\n",
            "Epoch 18/30\n",
            "464/464 [==============================] - 167s 360ms/step - loss: 0.8320 - accuracy: 0.6768 - val_loss: 1.7541 - val_accuracy: 0.4598 - lr: 2.5000e-04\n",
            "Epoch 19/30\n",
            "464/464 [==============================] - ETA: 0s - loss: 0.8144 - accuracy: 0.6867\n",
            "Epoch 00019: ReduceLROnPlateau reducing learning rate to 0.0001250000059371814.\n",
            "464/464 [==============================] - 167s 360ms/step - loss: 0.8144 - accuracy: 0.6867 - val_loss: 1.8370 - val_accuracy: 0.4789 - lr: 2.5000e-04\n",
            "Epoch 20/30\n",
            "464/464 [==============================] - 166s 358ms/step - loss: 0.7623 - accuracy: 0.7093 - val_loss: 1.7818 - val_accuracy: 0.4828 - lr: 1.2500e-04\n",
            "Epoch 21/30\n",
            "464/464 [==============================] - 167s 360ms/step - loss: 0.7439 - accuracy: 0.7168 - val_loss: 1.7782 - val_accuracy: 0.4981 - lr: 1.2500e-04\n",
            "Epoch 22/30\n",
            "464/464 [==============================] - 167s 360ms/step - loss: 0.7307 - accuracy: 0.7245 - val_loss: 1.8745 - val_accuracy: 0.4713 - lr: 1.2500e-04\n",
            "Epoch 23/30\n",
            "464/464 [==============================] - 167s 359ms/step - loss: 0.7126 - accuracy: 0.7284 - val_loss: 1.8743 - val_accuracy: 0.4789 - lr: 1.2500e-04\n",
            "Epoch 24/30\n",
            "464/464 [==============================] - 166s 358ms/step - loss: 0.6918 - accuracy: 0.7401 - val_loss: 1.8996 - val_accuracy: 0.5019 - lr: 1.2500e-04\n",
            "Epoch 25/30\n",
            "464/464 [==============================] - 167s 360ms/step - loss: 0.6802 - accuracy: 0.7472 - val_loss: 1.9002 - val_accuracy: 0.5019 - lr: 1.2500e-04\n",
            "Epoch 26/30\n",
            "464/464 [==============================] - 167s 360ms/step - loss: 0.6642 - accuracy: 0.7489 - val_loss: 1.9490 - val_accuracy: 0.4943 - lr: 1.2500e-04\n",
            "Epoch 27/30\n",
            "464/464 [==============================] - 167s 359ms/step - loss: 0.6540 - accuracy: 0.7558 - val_loss: 1.9293 - val_accuracy: 0.5057 - lr: 1.2500e-04\n",
            "Epoch 28/30\n",
            "464/464 [==============================] - 167s 359ms/step - loss: 0.6366 - accuracy: 0.7648 - val_loss: 2.0547 - val_accuracy: 0.4943 - lr: 1.2500e-04\n",
            "Epoch 29/30\n",
            "464/464 [==============================] - 167s 359ms/step - loss: 0.6234 - accuracy: 0.7649 - val_loss: 2.0155 - val_accuracy: 0.5019 - lr: 1.2500e-04\n",
            "Epoch 30/30\n",
            "464/464 [==============================] - ETA: 0s - loss: 0.6031 - accuracy: 0.7767\n",
            "Epoch 00030: ReduceLROnPlateau reducing learning rate to 6.25000029685907e-05.\n",
            "464/464 [==============================] - 167s 360ms/step - loss: 0.6031 - accuracy: 0.7767 - val_loss: 2.0579 - val_accuracy: 0.4751 - lr: 1.2500e-04\n"
          ]
        }
      ]
    },
    {
      "cell_type": "code",
      "source": [
        "from sklearn.metrics import confusion_matrix\n",
        "from sklearn.metrics import classification_report\n",
        "import seaborn as sns\n",
        "#graphs , confusion matrix ,and f meausre\n",
        "train_ac = record.history['accuracy']\n",
        "train_loss = record.history['loss']\n",
        "test_ac = record.history['val_accuracy']\n",
        "test_loss = record.history['val_loss']\n",
        "\n",
        "fig , ax = plt.subplots(1,2)\n",
        "fig.set_size_inches(16,5)\n",
        "ax[0].plot(train_loss, label = 'Training Loss')\n",
        "ax[0].plot(test_loss , label = 'Validation Loss')\n",
        "ax[0].set_title('Training & Validation Loss')\n",
        "ax[0].legend()\n",
        "ax[0].set_xlabel(\"Epochs\")\n",
        "\n",
        "ax[1].plot(train_ac, label = 'Training Accuracy')\n",
        "ax[1].plot(test_ac , label = 'Validation Accuracy')\n",
        "ax[1].set_title('Training & Validation Accuracy')\n",
        "ax[1].legend()\n",
        "ax[1].set_xlabel(\"Epochs\")\n",
        "plt.show()\n",
        "\n",
        "\n",
        "#SAD,ANG,DIS,FEA,HAP,and NEU and save them as corresponding labels 0,1,2,3,4,5,and 6 respectivly\n",
        "y_pred = model.predict(moded_xtest)\n",
        "y_pred_bool = np.argmax(y_pred, axis=1)\n",
        "print(classification_report(y_test, y_pred_bool))\n",
        "\n",
        "\n",
        "matrix = confusion_matrix(y_test, y_pred.argmax(axis=1))\n",
        "ax = sns.heatmap(matrix, annot=True, fmt=\"d\", cmap = 'rocket_r', xticklabels = ['sad','angery','disgust','fear', 'happiness', 'neutral'], yticklabels = ['sad','angery','disgust','fear', 'happiness', 'neutral'])\n"
      ],
      "metadata": {
        "colab": {
          "base_uri": "https://localhost:8080/",
          "height": 830
        },
        "id": "tDkPq_Wy8kFv",
        "outputId": "3103c570-e239-4897-eab8-bbf59edff906"
      },
      "execution_count": null,
      "outputs": [
        {
          "output_type": "display_data",
          "data": {
            "text/plain": [
              "<Figure size 1152x360 with 2 Axes>"
            ],
            "image/png": "[encoded data removed]"
          },
          "metadata": {
            "needs_background": "light"
          }
        },
        {
          "output_type": "stream",
          "name": "stdout",
          "text": [
            "              precision    recall  f1-score   support\n",
            "\n",
            "         0.0       0.46      0.50      0.48       349\n",
            "         1.0       0.61      0.68      0.64       373\n",
            "         2.0       0.46      0.42      0.44       398\n",
            "         3.0       0.52      0.37      0.43       404\n",
            "         4.0       0.47      0.51      0.49       369\n",
            "         5.0       0.52      0.59      0.55       340\n",
            "\n",
            "    accuracy                           0.51      2233\n",
            "   macro avg       0.51      0.51      0.51      2233\n",
            "weighted avg       0.51      0.51      0.50      2233\n",
            "\n"
          ]
        },
        {
          "output_type": "display_data",
          "data": {
            "text/plain": [
              "<Figure size 432x288 with 2 Axes>"
            ],
            "image/png": "[encoded data removed]"
          },
          "metadata": {
            "needs_background": "light"
          }
        }
      ]
    }
  ]
}